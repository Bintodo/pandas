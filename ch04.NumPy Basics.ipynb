{
 "cells": [
  {
   "cell_type": "markdown",
   "metadata": {},
   "source": [
    "# NumPy基础：数组和矢量计算"
   ]
  },
  {
   "cell_type": "markdown",
   "metadata": {
    "collapsed": true
   },
   "source": [
    "+ ndarray，一个具有矢量算术运算和复杂广播能力的快速且节省空间的多维数组。\n",
    "+ 用于对整数数据进行快速运算的标准数学函数（无需编写循环）\n",
    "+ 用于读写磁盘数据的工具以及用于操作内存映射文件的工具\n",
    "+ 线性代数、随机数生成以及傅里叶变换功能。\n",
    "+ 用于集成有C、C++、Fortran等语言编写的代码的工具。"
   ]
  },
  {
   "cell_type": "markdown",
   "metadata": {},
   "source": [
    "## 目录\n",
    "+ NumPy的ndarray：一个多维数组对象\n",
    " + 创建ndarray\n",
    " + ndarray的重要属性\n",
    " + ndarraysd的数据类型\n",
    " + 数组与标量之间的运算\n",
    " + 基本的索引和切片\n",
    " + 数组转置和轴对换\n",
    "\n",
    "\n",
    "+ 通用函数：快速的元素级数组函数\n",
    " + 一元ufunc\n",
    " + 二元ufunc\n",
    "\n",
    "\n",
    "+ 利用数组进行数据处理\n",
    " + 将条件逻辑表述为数组运算\n",
    " + 数学和统计方法\n",
    " + 用于布尔型数组的方法\n",
    " + 排序\n",
    " + 唯一化以及其他的集合逻辑\n",
    "\n",
    "    \n",
    "+ 用于数组的文件输入输出\n",
    " + 将数组以二进制格式保存到磁盘\n",
    " + 存取文本文件\n",
    "\n",
    "\n",
    "+ 线性代数\n",
    " + numpy函数\n",
    " + numpy.linalg函数\n",
    "\n",
    "\n",
    "+ 随机数生成\n",
    " + numpy.random函数\n",
    "\n",
    "    \n",
    "+ 范例：随机漫步\n",
    " + 一次模拟多个随机漫步"
   ]
  },
  {
   "cell_type": "code",
   "execution_count": null,
   "metadata": {
    "collapsed": false
   },
   "outputs": [],
   "source": [
    "from numpy.random import randn\n",
    "import numpy as np"
   ]
  },
  {
   "cell_type": "markdown",
   "metadata": {},
   "source": [
    "## NumPy的ndarray：一个多维数组对象"
   ]
  },
  {
   "cell_type": "markdown",
   "metadata": {},
   "source": [
    "### 创建ndarray"
   ]
  },
  {
   "cell_type": "markdown",
   "metadata": {},
   "source": [
    "+ array  \n",
    "将输入数据（列表、元组、数组或其他**序列类型**）转换为ndarray。要么推断出dtype，要么显式制定dtype。默认直接复制输入数据。"
   ]
  },
  {
   "cell_type": "code",
   "execution_count": null,
   "metadata": {
    "collapsed": false
   },
   "outputs": [],
   "source": [
    "data = [[1, 2, 3, 4], [5, 6, 7, 8]]\n",
    "arr = np.array(data)"
   ]
  },
  {
   "cell_type": "markdown",
   "metadata": {},
   "source": [
    "+ asarray  \n",
    "将输入转换为ndarray，如果输入本身就是一个ndarray就不进行复制"
   ]
  },
  {
   "cell_type": "code",
   "execution_count": null,
   "metadata": {
    "collapsed": true
   },
   "outputs": [],
   "source": [
    "arr1 = np.array(arr)\n",
    "arr1 is arr # 返回False，进行复制\n",
    "\n",
    "arr2 = np.asarray(arr)\n",
    "arr2 is arr # 返回True，不进行复制"
   ]
  },
  {
   "cell_type": "markdown",
   "metadata": {},
   "source": [
    "+ arange  \n",
    "类似于内置的range，但返回的是一个ndarray而不是列表"
   ]
  },
  {
   "cell_type": "code",
   "execution_count": null,
   "metadata": {
    "collapsed": true
   },
   "outputs": [],
   "source": [
    "np.arange(15)"
   ]
  },
  {
   "cell_type": "markdown",
   "metadata": {},
   "source": [
    "+ ones、ones_like  \n",
    "根据指定的形状和dtype创建一个全1数组。ones_like以另一个数组为参数，并根据其形状和dtype创建一个全1数组"
   ]
  },
  {
   "cell_type": "code",
   "execution_count": null,
   "metadata": {
    "collapsed": true
   },
   "outputs": [],
   "source": [
    "np.ones((2, 3, 4), dtype = np.string_) # 创建多维数组，参数是元组的形式，并且根据dtype参数将数值1转化为字符串\n",
    "np.ones_like(arr)"
   ]
  },
  {
   "cell_type": "markdown",
   "metadata": {},
   "source": [
    "+ zeros、zeros_like  \n",
    "类似于ones和ones_like，只不过产生的是全0数组而已"
   ]
  },
  {
   "cell_type": "code",
   "execution_count": null,
   "metadata": {
    "collapsed": true
   },
   "outputs": [],
   "source": [
    "np.zeros((2, 3, 4), dtype = np.int8)\n",
    "np.zeros_like(arr)"
   ]
  },
  {
   "cell_type": "markdown",
   "metadata": {},
   "source": [
    "+ empty、emtpy_like  \n",
    "创建新数组，只分配内存空间但不填充任何值"
   ]
  },
  {
   "cell_type": "code",
   "execution_count": null,
   "metadata": {
    "collapsed": true
   },
   "outputs": [],
   "source": [
    "np.empty((2, 3, 4))\n",
    "np.empty_like(arr)"
   ]
  },
  {
   "cell_type": "markdown",
   "metadata": {},
   "source": [
    "+ eye、identity  \n",
    "创建一个正方的N * N单位矩阵"
   ]
  },
  {
   "cell_type": "code",
   "execution_count": null,
   "metadata": {
    "collapsed": true
   },
   "outputs": [],
   "source": [
    "N = 5\n",
    "np.eye(N)\n",
    "np.identity(N)"
   ]
  },
  {
   "cell_type": "markdown",
   "metadata": {},
   "source": [
    "### ndarray的重要属性"
   ]
  },
  {
   "cell_type": "code",
   "execution_count": null,
   "metadata": {
    "collapsed": false
   },
   "outputs": [],
   "source": [
    "# 生成2 * 3的2维数组，元素服从标准正态分布\n",
    "data = randn(2, 3)"
   ]
  },
  {
   "cell_type": "code",
   "execution_count": null,
   "metadata": {
    "collapsed": true
   },
   "outputs": [],
   "source": [
    "data.ndim # 数组的维数"
   ]
  },
  {
   "cell_type": "code",
   "execution_count": null,
   "metadata": {
    "collapsed": false,
    "scrolled": false
   },
   "outputs": [],
   "source": [
    "data.shape # 数组各维度大小的元组,n行m列的数组，返回(n, m)"
   ]
  },
  {
   "cell_type": "code",
   "execution_count": null,
   "metadata": {
    "collapsed": true
   },
   "outputs": [],
   "source": [
    "data.size # 数组内元素个数"
   ]
  },
  {
   "cell_type": "code",
   "execution_count": null,
   "metadata": {
    "collapsed": true
   },
   "outputs": [],
   "source": [
    "data.dtype # 数组的数据类型"
   ]
  },
  {
   "cell_type": "code",
   "execution_count": null,
   "metadata": {
    "collapsed": true
   },
   "outputs": [],
   "source": [
    "data.itemsize # 每个元素占用字节数"
   ]
  },
  {
   "cell_type": "code",
   "execution_count": null,
   "metadata": {
    "collapsed": true
   },
   "outputs": [],
   "source": [
    "data.data # 数组内存地址"
   ]
  },
  {
   "cell_type": "markdown",
   "metadata": {},
   "source": [
    "### ndarraysd的数据类型"
   ]
  },
  {
   "cell_type": "markdown",
   "metadata": {},
   "source": [
    "+ 显示指定dtype"
   ]
  },
  {
   "cell_type": "code",
   "execution_count": null,
   "metadata": {
    "collapsed": false
   },
   "outputs": [],
   "source": [
    "arr1 = np.array([1, 2, 3], dtype=np.float64) # 数值型dtype，np.类型名+位长，标准的双精度浮点值占用8字节（即64位）"
   ]
  },
  {
   "cell_type": "markdown",
   "metadata": {},
   "source": [
    "+ 通过astype方法转换dtype"
   ]
  },
  {
   "cell_type": "code",
   "execution_count": null,
   "metadata": {
    "collapsed": false
   },
   "outputs": [],
   "source": [
    "arr = np.array([1, 2, 3, 4, 5])\n",
    "float_arr = arr.astype(np.float64)"
   ]
  },
  {
   "cell_type": "code",
   "execution_count": null,
   "metadata": {
    "collapsed": false
   },
   "outputs": [],
   "source": [
    "arr = np.array([3.7, -1.2, -2.6, 0.5, 12.9, 10.1])\n",
    "arr.astype(np.int32) # 将浮点数转换成整数，小数部分会被截断"
   ]
  },
  {
   "cell_type": "code",
   "execution_count": null,
   "metadata": {
    "collapsed": false
   },
   "outputs": [],
   "source": [
    "numeric_strings = np.array(['1.25', '-9.6', '42'], dtype=np.string_) # 如果字符串数组全是数字，可以用astype将其转换为数值形式\n",
    "numeric_strings.astype(float) # float是Python内置类型，NumPy会自动将Python类型映射到等价的dtype，即np.float64"
   ]
  },
  {
   "cell_type": "markdown",
   "metadata": {},
   "source": [
    "+ 将其他数组的dtype属性作为参数传入astype方法"
   ]
  },
  {
   "cell_type": "code",
   "execution_count": null,
   "metadata": {
    "collapsed": false
   },
   "outputs": [],
   "source": [
    "int_array = np.arange(10)\n",
    "calibers = np.array([.22, .270, .357, .380, .44, .50], dtype=np.float64)\n",
    "int_array.astype(calibers.dtype) # 等价于int_array.astype(np.float64)"
   ]
  },
  {
   "cell_type": "markdown",
   "metadata": {},
   "source": [
    "+ 用简洁的类型代码表示dtype"
   ]
  },
  {
   "cell_type": "code",
   "execution_count": null,
   "metadata": {
    "collapsed": false
   },
   "outputs": [],
   "source": [
    "empty_uint32 = np.empty(8, dtype='u4') # 等价于empty_uint32 = np.empty(8, dtype='np.uint32')"
   ]
  },
  {
   "cell_type": "markdown",
   "metadata": {},
   "source": [
    "NumPy的数据类型列表，在原书第86页\n",
    "\n",
    "注意：astype方法会创建一个**新的数组**"
   ]
  },
  {
   "cell_type": "markdown",
   "metadata": {},
   "source": [
    "### 数组与标量之间的运算"
   ]
  },
  {
   "cell_type": "markdown",
   "metadata": {},
   "source": [
    "+ 大小相等的数组之间的算术运算和比较运算，运算将应用到**元素级**"
   ]
  },
  {
   "cell_type": "code",
   "execution_count": null,
   "metadata": {
    "collapsed": false
   },
   "outputs": [],
   "source": [
    "arr = np.array([[1., 2., 3.], [4., 5., 6.]])\n",
    "arr * arr\n",
    "arr == arr"
   ]
  },
  {
   "cell_type": "markdown",
   "metadata": {},
   "source": [
    "+ 数组与标量的算术运算和比较运算，标量值将**传播**到各个**元素**"
   ]
  },
  {
   "cell_type": "code",
   "execution_count": null,
   "metadata": {
    "collapsed": false
   },
   "outputs": [],
   "source": [
    "1 / arr\n",
    "arr != 1"
   ]
  },
  {
   "cell_type": "markdown",
   "metadata": {},
   "source": [
    "### 基本的索引和切片"
   ]
  },
  {
   "cell_type": "markdown",
   "metadata": {},
   "source": [
    "+ 整数索引  \n",
    " + 整数索引是原始数组的视图，数据并不会复制\n",
    " + 整数索引返回的是低维数组\n",
    " + 通过切片赋值，对数组进行修改 "
   ]
  },
  {
   "cell_type": "code",
   "execution_count": null,
   "metadata": {
    "collapsed": false
   },
   "outputs": [],
   "source": [
    "arr3d = np.array([[[1, 2, 3], [4, 5, 6]], [[7, 8, 9], [10, 11, 12]]]) # 3维数组"
   ]
  },
  {
   "cell_type": "code",
   "execution_count": null,
   "metadata": {
    "collapsed": false
   },
   "outputs": [],
   "source": [
    "arr3d[0] # 2维数组"
   ]
  },
  {
   "cell_type": "code",
   "execution_count": null,
   "metadata": {
    "collapsed": true
   },
   "outputs": [],
   "source": [
    "arr3d[0][0]\n",
    "arr3d[0, 0] # 以上两种方式等价，返回1维数组"
   ]
  },
  {
   "cell_type": "code",
   "execution_count": null,
   "metadata": {
    "collapsed": false
   },
   "outputs": [],
   "source": [
    "old_values = arr3d[0].copy() # 如果想要得到切片副本，使用.copy()方法\n",
    "arr3d[0] = 42 # 利用整数索引赋值，对数组进行修改\n",
    "arr3d[0] = old_values"
   ]
  },
  {
   "cell_type": "markdown",
   "metadata": {},
   "source": [
    "+ 切片索引\n",
    " + 整数索引是原始数组的视图，数据并不会复制"
   ]
  },
  {
   "cell_type": "code",
   "execution_count": null,
   "metadata": {
    "collapsed": false
   },
   "outputs": [],
   "source": [
    "arr2d = np.array([[1, 2, 3], [4, 5, 6], [7, 8, 9]])\n",
    "arr2d[:2] # 单独使用切片索引，不降维"
   ]
  },
  {
   "cell_type": "code",
   "execution_count": null,
   "metadata": {
    "collapsed": false
   },
   "outputs": [],
   "source": [
    "arr2d[:2, 1:] # 先按0轴切片，再按1轴切片"
   ]
  },
  {
   "cell_type": "code",
   "execution_count": null,
   "metadata": {
    "collapsed": false
   },
   "outputs": [],
   "source": [
    "arr2d[1, :2] # 整数索引与切片索引混用，降维\n",
    "arr2d[1:2, :2] # 在不降维的情况下，选取单行数组"
   ]
  },
  {
   "cell_type": "code",
   "execution_count": null,
   "metadata": {
    "collapsed": false
   },
   "outputs": [],
   "source": [
    "arr2d[:, :1] # 只有冒号，选取整个轴，即对该轴不切片"
   ]
  },
  {
   "cell_type": "code",
   "execution_count": null,
   "metadata": {
    "collapsed": false
   },
   "outputs": [],
   "source": [
    "arr2d[:2, 1:] = 0 # 利用切片索引修改数组"
   ]
  },
  {
   "cell_type": "markdown",
   "metadata": {},
   "source": [
    "+ 布尔型索引\n",
    " + 布尔型索引总是创建数据的副本"
   ]
  },
  {
   "cell_type": "code",
   "execution_count": null,
   "metadata": {
    "collapsed": false
   },
   "outputs": [],
   "source": [
    "names = np.array(['Bob', 'Joe', 'Will', 'Bob', 'Will', 'Joe', 'Joe'])\n",
    "names1 = np.array(['Bob', 'Joe', 'Will', 'Bob'])\n",
    "data = randn(7, 4)"
   ]
  },
  {
   "cell_type": "code",
   "execution_count": null,
   "metadata": {
    "collapsed": false
   },
   "outputs": [],
   "source": [
    "data[names == 'Bob'] # 布尔型数组的长度跟被索引的轴长度一致，按行索引\n",
    "data[:, names1 == 'Bob'] # 按列索引"
   ]
  },
  {
   "cell_type": "code",
   "execution_count": null,
   "metadata": {
    "collapsed": false
   },
   "outputs": [],
   "source": [
    "names != 'Bob'\n",
    "data[-(names == 'Bob')] # 以上两种方式等价"
   ]
  },
  {
   "cell_type": "code",
   "execution_count": null,
   "metadata": {
    "collapsed": false
   },
   "outputs": [],
   "source": [
    "mask = (names == 'Bob') | (names == 'Will') # Python关键字and和or在布尔型数组中无效，使用 & 和 |\n",
    "mask\n",
    "data[mask] # 布尔条件的组合索引 "
   ]
  },
  {
   "cell_type": "code",
   "execution_count": null,
   "metadata": {
    "collapsed": false
   },
   "outputs": [],
   "source": [
    "data[data < 0] = 0 # 利用与原数组shape相同的布尔型索引修改数组"
   ]
  },
  {
   "cell_type": "code",
   "execution_count": null,
   "metadata": {
    "collapsed": false
   },
   "outputs": [],
   "source": [
    "data[names != 'Joe'] = 7 # 利用一维布尔型索引修改数组"
   ]
  },
  {
   "cell_type": "markdown",
   "metadata": {},
   "source": [
    "+ 花式索引（整数数组索引）\n",
    " + 以特定顺序选取行列子集\n",
    " + 花式索引总是创建数据的副本"
   ]
  },
  {
   "cell_type": "code",
   "execution_count": null,
   "metadata": {
    "collapsed": false
   },
   "outputs": [],
   "source": [
    "arr = np.empty((8, 4))\n",
    "for i in range(8):\n",
    "    arr[i] = i # 创建数组"
   ]
  },
  {
   "cell_type": "code",
   "execution_count": null,
   "metadata": {
    "collapsed": false
   },
   "outputs": [],
   "source": [
    "arr[[4, 3, 0, 6]] # 以特定顺序选取行子集"
   ]
  },
  {
   "cell_type": "code",
   "execution_count": null,
   "metadata": {
    "collapsed": false
   },
   "outputs": [],
   "source": [
    "arr[[-3, -5, -7]] # 使用负数索引从末尾选取行"
   ]
  },
  {
   "cell_type": "code",
   "execution_count": null,
   "metadata": {
    "collapsed": false
   },
   "outputs": [],
   "source": [
    "arr = np.arange(32).reshape((8, 4))\n",
    "arr[[1, 5, 7, 2], [0, 3, 1, 2]] # 这样返回的是元素(1, 0), (5, 3), (7, 1), (2, 2)"
   ]
  },
  {
   "cell_type": "code",
   "execution_count": null,
   "metadata": {
    "collapsed": false
   },
   "outputs": [],
   "source": [
    "arr[[1, 5, 7, 2]][:, [0, 3, 1, 2]]\n",
    "arr[np.ix_([1, 5, 7, 2], [0, 3, 1, 2])] # 以上两种方式等价，选取数组内的方形区域"
   ]
  },
  {
   "cell_type": "markdown",
   "metadata": {},
   "source": [
    "### 数组转置和轴对换\n",
    "转置和轴对换返回源数据的视图，数据并不会复制"
   ]
  },
  {
   "cell_type": "markdown",
   "metadata": {},
   "source": [
    "+ T属性，转置"
   ]
  },
  {
   "cell_type": "code",
   "execution_count": null,
   "metadata": {
    "collapsed": false
   },
   "outputs": [],
   "source": [
    "arr = np.arange(15).reshape((3, 5))\n",
    "arr.T"
   ]
  },
  {
   "cell_type": "markdown",
   "metadata": {},
   "source": [
    "+ transpose方法，转置"
   ]
  },
  {
   "cell_type": "code",
   "execution_count": null,
   "metadata": {
    "collapsed": false
   },
   "outputs": [],
   "source": [
    "arr = np.arange(16).reshape((2, 2, 4))\n",
    "arr.transpose((1, 0, 2)) # 传入轴编号组成的元组，按照轴编号的排列重塑数组"
   ]
  },
  {
   "cell_type": "code",
   "execution_count": null,
   "metadata": {
    "collapsed": true
   },
   "outputs": [],
   "source": [
    "arr.T\n",
    "arr.transpose((2, 1, 0)) # 以上两种方式等价"
   ]
  },
  {
   "cell_type": "markdown",
   "metadata": {},
   "source": [
    "+ swapaxes方法，轴对换"
   ]
  },
  {
   "cell_type": "code",
   "execution_count": null,
   "metadata": {
    "collapsed": false
   },
   "outputs": [],
   "source": [
    "arr.swapaxes(1, 2) # 1、2轴对换"
   ]
  },
  {
   "cell_type": "markdown",
   "metadata": {},
   "source": [
    "## 通用函数：快速的元素级数组函数"
   ]
  },
  {
   "cell_type": "markdown",
   "metadata": {},
   "source": [
    "+ 通用函数（ufunc）都是NumPy的**顶级函数**，是一种对ndarray中的数据执行元素级运算的函数。\n",
    "+ 可以将其看作简单函数（接受一个或多个标量值，并产生一个或多个标量值）的矢量化包装器。"
   ]
  },
  {
   "cell_type": "markdown",
   "metadata": {},
   "source": [
    "### 一元ufunc"
   ]
  },
  {
   "cell_type": "markdown",
   "metadata": {},
   "source": [
    "+ abs、fabs  \n",
    "计算整数、浮点数或复数的绝对值。对于非复数值，可以使用更快的fabs\n",
    "+ sqrt  \n",
    "计算各元素的平方根。相当于arr ** 0.5\n",
    "+ square  \n",
    "计算各元素的平方。相当于arr ** 2\n",
    "+ exp  \n",
    "计算各元素的指数e ** x\n",
    "+ log、log10、log2、log1p  \n",
    "分别为自然对数（底数为e）、底数为10的log、底数为2的log、log(1+x)\n",
    "+ sign  \n",
    "计算各元素的正负号：1（正数）、0（零）、-1（负数）\n",
    "+ ceil  \n",
    "计算各元素的ceiling值，即大于等于该值的最小整数\n",
    "+ floor  \n",
    "计算各元素的floor值，即小于等于该值的最大整数\n",
    "+ rint  \n",
    "将各元素值四舍五入到最接近的整数，保留dtype\n",
    "+ modf  \n",
    "将数组的小数和整数部分以两个独立数组的形式返回\n",
    "+ isnan  \n",
    "返回一个表示“哪些值是NaN（这不是一个数字）”的布尔型数组\n",
    "+ isfinite、isinf  \n",
    "分别返回一个表示“哪些元素是有穷的（非inf，非NaN）”或“哪些元素是无穷的”的布尔型数组\n",
    "+ cos、cosh、sin、sinh、tan、tanh  \n",
    "普通型和双曲型三角函数\n",
    "+ arccos、arccosh、arcsin、arcsinh、arctan、arctanh  \n",
    "反三角函数\n",
    "+ logical_not  \n",
    "计算各元素not x的真值。相当于-arr"
   ]
  },
  {
   "cell_type": "code",
   "execution_count": null,
   "metadata": {
    "collapsed": true
   },
   "outputs": [],
   "source": [
    "arr = np.arange(10)\n",
    "np.sqrt(arr)\n",
    "np.exp(arr)"
   ]
  },
  {
   "cell_type": "code",
   "execution_count": null,
   "metadata": {
    "collapsed": false
   },
   "outputs": [],
   "source": [
    "arr = randn(7) * 5\n",
    "np.modf(arr) # 返回由两个数组构成的元组"
   ]
  },
  {
   "cell_type": "markdown",
   "metadata": {},
   "source": [
    "### 二元ufunc"
   ]
  },
  {
   "cell_type": "markdown",
   "metadata": {},
   "source": [
    "+ add  \n",
    "将数组中对应的元素相加\n",
    "+ subtract  \n",
    "从第一个数组中减去第二个数组中的元素\n",
    "+ multiply  \n",
    "数组元素相乘\n",
    "+ divide、floor_divide  \n",
    "除法或向下圆整除法（丢弃余数）\n",
    "+ power  \n",
    "对第一个数组中的元素A，根据第二个数组中的相应元素B，计算A ** B\n",
    "+ maximum、fmax  \n",
    "元素级的最大值计算。fmax将忽略NaN\n",
    "+ minimum、fmin  \n",
    "元素级的最小值计算。fmin将忽略NaN\n",
    "+ mod  \n",
    "元素级的求模计算（除法的余数）\n",
    "+ copysign  \n",
    "将第二个数组中的值的符号复制给第一个数组中的值\n",
    "+ greater、greater_equal、less、less_equal、equal、not_equal  \n",
    "执行元素级的比较运算，最终产生布尔型数组。相当于中缀运算符>、>=、<、<=、==、!=\n",
    "+ logical_and、logical_or、logical_xor  \n",
    "执行元素级的真值逻辑运算。相当于中缀运算符&、|、^（异或）"
   ]
  },
  {
   "cell_type": "code",
   "execution_count": null,
   "metadata": {
    "collapsed": false
   },
   "outputs": [],
   "source": [
    "x = randn(8)\n",
    "y = randn(8)\n",
    "np.maximum(x, y)"
   ]
  },
  {
   "cell_type": "markdown",
   "metadata": {},
   "source": [
    "## 利用数组进行数据处理"
   ]
  },
  {
   "cell_type": "markdown",
   "metadata": {},
   "source": [
    "### 将条件逻辑表述为数组运算"
   ]
  },
  {
   "cell_type": "markdown",
   "metadata": {},
   "source": [
    "np.where函数是三元表达式x if condition else y的矢量化版本"
   ]
  },
  {
   "cell_type": "markdown",
   "metadata": {},
   "source": [
    "+ 3个参数是等长数组"
   ]
  },
  {
   "cell_type": "code",
   "execution_count": null,
   "metadata": {
    "collapsed": false
   },
   "outputs": [],
   "source": [
    "xarr = np.array([1.1, 1.2, 1.3, 1.4, 1.5])\n",
    "yarr = np.array([2.1, 2.2, 2.3, 2.4, 2.5])\n",
    "cond = np.array([True, False, True, True, False])"
   ]
  },
  {
   "cell_type": "code",
   "execution_count": null,
   "metadata": {
    "collapsed": false
   },
   "outputs": [],
   "source": [
    "result = [(x if c else y)\n",
    "          for x, y, c in zip(xarr, yarr, cond)]"
   ]
  },
  {
   "cell_type": "code",
   "execution_count": null,
   "metadata": {
    "collapsed": false
   },
   "outputs": [],
   "source": [
    "result = np.where(cond, xarr, yarr) # 以上两种方式等价，cond值为True时，选取xarr的值，否则选取yarr的值"
   ]
  },
  {
   "cell_type": "markdown",
   "metadata": {},
   "source": [
    "+ 第2、3个参数不是数组，用于根据另一个数组产生一个新的数组"
   ]
  },
  {
   "cell_type": "code",
   "execution_count": null,
   "metadata": {
    "collapsed": false
   },
   "outputs": [],
   "source": [
    "arr = randn(4, 4)\n",
    "np.where(arr > 0, 2, -2)\n",
    "np.where(arr > 0, 2, arr) # 只将正值设置为2"
   ]
  },
  {
   "cell_type": "markdown",
   "metadata": {},
   "source": [
    "+ 嵌套的where表达式"
   ]
  },
  {
   "cell_type": "code",
   "execution_count": null,
   "metadata": {
    "collapsed": false
   },
   "outputs": [],
   "source": [
    "result = []\n",
    "for i in range(n):\n",
    "    if cond1[i] and cond2[i]:\n",
    "        result.append(0)\n",
    "    elif cond1[i]:\n",
    "        result.append(1)\n",
    "    elif cond2[i]:\n",
    "        result.append(2)\n",
    "    else:\n",
    "        result.append(3)"
   ]
  },
  {
   "cell_type": "code",
   "execution_count": null,
   "metadata": {
    "collapsed": false
   },
   "outputs": [],
   "source": [
    "np.where(cond1 & cond2, 0,\n",
    "         np.where(cond1, 1,\n",
    "                  np.where(cond2, 2, 3))) # 以上两种方式等价"
   ]
  },
  {
   "cell_type": "markdown",
   "metadata": {},
   "source": [
    "### 数学和统计方法"
   ]
  },
  {
   "cell_type": "markdown",
   "metadata": {},
   "source": [
    "+ sum  \n",
    "对数组中全部或某轴向的元素求和。零长度的数组的sum为0\n",
    "+ mean  \n",
    "算术平均数。零长度的数组的mean为NaN\n",
    "+ std、var  \n",
    "分别为标准差和方差，自由度可调（默认为n）\n",
    "+ min、max  \n",
    "最大值和最小值\n",
    "+ argmin、argmax  \n",
    "分别为排在第一个的最大和最小元素的索引\n",
    "+ cumsum  \n",
    "所有元素的累计和\n",
    "+ cumprod  \n",
    "所有元素的累计积"
   ]
  },
  {
   "cell_type": "code",
   "execution_count": null,
   "metadata": {
    "collapsed": false
   },
   "outputs": [],
   "source": [
    "arr = np.random.randn(5, 4)\n",
    "arr.mean()\n",
    "np.mean(arr) # 既是方法，也是顶级函数，返回标量值"
   ]
  },
  {
   "cell_type": "code",
   "execution_count": null,
   "metadata": {
    "collapsed": false
   },
   "outputs": [],
   "source": [
    "arr.mean(axis=1) # 接受axis = 1参数，按行计算统计值，返回少一维的数组，0为列，1为行\n",
    "arr.sum(0) # 可以不输入axis = 参数名，按列计算统计值"
   ]
  },
  {
   "cell_type": "code",
   "execution_count": null,
   "metadata": {
    "collapsed": false
   },
   "outputs": [],
   "source": [
    "arr = np.array([[0, 1, 2], [3, 4, 5], [6, 7, 8]])\n",
    "arr.cumsum(0)\n",
    "arr.cumprod(1) # cumsum、cumprod之类的方法不聚合，返回由中间结果组成的数组"
   ]
  },
  {
   "cell_type": "markdown",
   "metadata": {},
   "source": [
    "### 用于布尔型数组的方法"
   ]
  },
  {
   "cell_type": "code",
   "execution_count": null,
   "metadata": {
    "collapsed": false
   },
   "outputs": [],
   "source": [
    "arr = randn(100)\n",
    "(arr > 0).sum() # 布尔值会被转换为1（True）和0（False），sum用于对布尔型数组中的True值计数"
   ]
  },
  {
   "cell_type": "code",
   "execution_count": null,
   "metadata": {
    "collapsed": false
   },
   "outputs": [],
   "source": [
    "bools = np.array([False, False, True, False]).reshape(2, 2)\n",
    "bools.any() # any检查整个数组中是否存在True\n",
    "bools.any(0) # 检查每列中是否存在True\n",
    "bools.any(1) # 检查每行中是否存在True\n",
    "bools.all() # all检测整个数组中是否全为True"
   ]
  },
  {
   "cell_type": "markdown",
   "metadata": {},
   "source": [
    "### 排序"
   ]
  },
  {
   "cell_type": "markdown",
   "metadata": {},
   "source": [
    "+ sort方法就地排序"
   ]
  },
  {
   "cell_type": "code",
   "execution_count": null,
   "metadata": {
    "collapsed": false
   },
   "outputs": [],
   "source": [
    "arr = randn(8)\n",
    "arr.sort()"
   ]
  },
  {
   "cell_type": "code",
   "execution_count": null,
   "metadata": {
    "collapsed": false
   },
   "outputs": [],
   "source": [
    "arr = randn(5, 3)\n",
    "arr.sort(1) # 多维数组可以在某一轴上排序"
   ]
  },
  {
   "cell_type": "markdown",
   "metadata": {},
   "source": [
    "+ np.sort函数返回数组排序后的副本"
   ]
  },
  {
   "cell_type": "code",
   "execution_count": null,
   "metadata": {
    "collapsed": true
   },
   "outputs": [],
   "source": [
    "arr = randn(8)\n",
    "np.sort(arr)"
   ]
  },
  {
   "cell_type": "markdown",
   "metadata": {},
   "source": [
    "+ 利用排序计算数组分位数"
   ]
  },
  {
   "cell_type": "code",
   "execution_count": null,
   "metadata": {
    "collapsed": false
   },
   "outputs": [],
   "source": [
    "large_arr = randn(1000)\n",
    "large_arr.sort()\n",
    "large_arr[int(0.05 * len(large_arr))] # 5%分位数"
   ]
  },
  {
   "cell_type": "markdown",
   "metadata": {},
   "source": [
    "### 唯一化以及其他的集合逻辑"
   ]
  },
  {
   "cell_type": "markdown",
   "metadata": {},
   "source": [
    "+ 集合运算都是NumPy的顶级函数"
   ]
  },
  {
   "cell_type": "markdown",
   "metadata": {},
   "source": [
    "+ unique(x)  \n",
    "计算x中的唯一元素，并返回有序结果\n",
    "+ intersect1d(x, y)  \n",
    "计算x和y中的公共元素，并返回有序结果\n",
    "+ union1d(x, y)  \n",
    "计算x和y的并集，并返回有序结果\n",
    "+ in1d(x, y)  \n",
    "得到一个表示“x的元素是否包含于y”的布尔型数组\n",
    "+ setdiff1d(x, y)  \n",
    "集合的差，即元素在x中且不在y中\n",
    "+ setxor1d(x, y)  \n",
    "集合的对称差，即存在于一个数组中但不同时存在于两个数组中的元素（异或）"
   ]
  },
  {
   "cell_type": "code",
   "execution_count": null,
   "metadata": {
    "collapsed": false
   },
   "outputs": [],
   "source": [
    "names = np.array(['Bob', 'Joe', 'Will', 'Bob', 'Will', 'Joe', 'Joe'])\n",
    "np.unique(names)"
   ]
  },
  {
   "cell_type": "code",
   "execution_count": null,
   "metadata": {
    "collapsed": false
   },
   "outputs": [],
   "source": [
    "sorted(set(names)) # 等价的纯Python代码"
   ]
  },
  {
   "cell_type": "code",
   "execution_count": null,
   "metadata": {
    "collapsed": false
   },
   "outputs": [],
   "source": [
    "values = np.array([6, 0, 0, 3, 2, 5, 6])\n",
    "np.in1d(values, [2, 3, 6])"
   ]
  },
  {
   "cell_type": "markdown",
   "metadata": {},
   "source": [
    "## 用于数组的文件输入输出"
   ]
  },
  {
   "cell_type": "markdown",
   "metadata": {},
   "source": [
    "### 将数组以二进制格式保存到磁盘"
   ]
  },
  {
   "cell_type": "markdown",
   "metadata": {},
   "source": [
    "+ np.save  \n",
    "默认情况下，数组以未压缩的原始二进制格式保存在扩展名为**.npy**的文件中"
   ]
  },
  {
   "cell_type": "code",
   "execution_count": null,
   "metadata": {
    "collapsed": false
   },
   "outputs": [],
   "source": [
    "arr = np.arange(10)\n",
    "np.save('some_array', arr) # 文件路径末尾没有.npy，会被自动加上"
   ]
  },
  {
   "cell_type": "markdown",
   "metadata": {},
   "source": [
    "+ np.load  \n",
    "读取磁盘上的数组"
   ]
  },
  {
   "cell_type": "code",
   "execution_count": null,
   "metadata": {
    "collapsed": false
   },
   "outputs": [],
   "source": [
    "np.load('some_array.npy')"
   ]
  },
  {
   "cell_type": "markdown",
   "metadata": {},
   "source": [
    "+ np.savez  \n",
    "将多个数组保存到一个扩展名为**.npz**的压缩文件中，数组以关键字参数的形式传入"
   ]
  },
  {
   "cell_type": "code",
   "execution_count": null,
   "metadata": {
    "collapsed": false
   },
   "outputs": [],
   "source": [
    "np.savez('array_archive.npz', a=arr, b=arr)"
   ]
  },
  {
   "cell_type": "code",
   "execution_count": null,
   "metadata": {
    "collapsed": false
   },
   "outputs": [],
   "source": [
    "arch = np.load('array_archive.npz') # 加载.npz文件，会得到一个类似字典的对象\n",
    "arch['b'] # 通过关键字参数的键来读取数组"
   ]
  },
  {
   "cell_type": "markdown",
   "metadata": {},
   "source": [
    "### 存取文本文件"
   ]
  },
  {
   "cell_type": "markdown",
   "metadata": {},
   "source": [
    "+ np.loadtxt  \n",
    "可以指定各种分隔符、针对特定列的转换器函数、需要跳过的函数等"
   ]
  },
  {
   "cell_type": "code",
   "execution_count": null,
   "metadata": {
    "collapsed": false
   },
   "outputs": [],
   "source": [
    "!cat array_ex.txt # 这是Linux的，Windows得用type"
   ]
  },
  {
   "cell_type": "code",
   "execution_count": null,
   "metadata": {
    "collapsed": false
   },
   "outputs": [],
   "source": [
    "arr = np.loadtxt('array_ex.txt', delimiter=',') # delimiter参数设置分隔符"
   ]
  },
  {
   "cell_type": "markdown",
   "metadata": {},
   "source": [
    "+ np.savetxt  \n",
    "将数组写到以某种分隔符隔开的文本文件中"
   ]
  },
  {
   "cell_type": "markdown",
   "metadata": {},
   "source": [
    "## 线性代数"
   ]
  },
  {
   "cell_type": "markdown",
   "metadata": {},
   "source": [
    "### numpy函数\n",
    "+ diag  \n",
    "以一维数组的形式返回方阵的对角线（或非对角线）元素，或将一维数组转换为方阵（非对角线元素为0）\n",
    "+ dot  \n",
    "矩阵乘法\n",
    "+ trace  \n",
    "计算对角线元素的和"
   ]
  },
  {
   "cell_type": "code",
   "execution_count": null,
   "metadata": {
    "collapsed": false
   },
   "outputs": [],
   "source": [
    "x = np.array([[1., 2., 3.], [4., 5., 6.]])\n",
    "y = np.array([[6., 23.], [-1, 7], [8, 9]])\n",
    "x.dot(y)\n",
    "np.dot(x, y) # 以上两种方式等价"
   ]
  },
  {
   "cell_type": "code",
   "execution_count": null,
   "metadata": {
    "collapsed": false
   },
   "outputs": [],
   "source": [
    "np.dot(x, np.ones(3)) # 矩阵与向量相乘"
   ]
  },
  {
   "cell_type": "markdown",
   "metadata": {},
   "source": [
    "### numpy.linalg函数\n",
    "+ det  \n",
    "计算矩阵行列式\n",
    "+ eig  \n",
    "计算方阵的本征值和本征向量\n",
    "+ inv  \n",
    "计算方阵的逆\n",
    "+ pinv  \n",
    "计算矩阵的Moore-Penrose伪逆\n",
    "+ qr  \n",
    "计算QR分解\n",
    "+ svd  \n",
    "计算奇异值分解（SVD）\n",
    "+ solve  \n",
    "解线性方程组Ax = b，其中A为一个方阵\n",
    "+ lstsq  \n",
    "计算Ax = b的最小二乘解\n"
   ]
  },
  {
   "cell_type": "code",
   "execution_count": null,
   "metadata": {
    "collapsed": false
   },
   "outputs": [],
   "source": [
    "from numpy.linalg import inv, qr\n",
    "X = randn(5, 5)\n",
    "mat = X.T.dot(X)\n",
    "inv(mat) # 求逆\n",
    "mat.dot(inv(mat)) # 返回单位阵\n",
    "q, r = qr(mat) # QR分解"
   ]
  },
  {
   "cell_type": "markdown",
   "metadata": {},
   "source": [
    "## 随机数生成"
   ]
  },
  {
   "cell_type": "markdown",
   "metadata": {},
   "source": [
    "### numpy.random函数\n",
    "+ seed  \n",
    "确定随机数生成器的种子\n",
    "+ permutation  \n",
    "返回一个序列的随机排列或返回一个随机排列的范围\n",
    "+ shuffle  \n",
    "对一个序列就地随机排列\n",
    "+ rand  \n",
    "产生均匀分布的样本值\n",
    "+ randint  \n",
    "从给定的上下限范围内随机选取整数\n",
    "+ randn  \n",
    "产生正态分布（平均值为0，标准差为1）的样本值，类似于MATLAB接口\n",
    "+ binomial  \n",
    "产生二项分布的样本值\n",
    "+ normal  \n",
    "产生正态（高斯）分布的样本值\n",
    "+ beta  \n",
    "产生Beta分布的样本值\n",
    "+ chisquare  \n",
    "产生卡方分布的样本值\n",
    "+ gamma  \n",
    "产生Gamma分布的样本值\n",
    "+ uniform  \n",
    "产生在[0, 1)中均匀分布的样本值"
   ]
  },
  {
   "cell_type": "code",
   "execution_count": null,
   "metadata": {
    "collapsed": false
   },
   "outputs": [],
   "source": [
    "samples = np.random.normal(size=(4, 4)) # 产生标准正态分布的4 * 4样本数组"
   ]
  },
  {
   "cell_type": "code",
   "execution_count": null,
   "metadata": {
    "collapsed": false
   },
   "outputs": [],
   "source": [
    "from random import normalvariate\n",
    "N = 1000000\n",
    "%timeit samples = [normalvariate(0, 1) for _ in xrange(N)]\n",
    "%timeit np.random.normal(size=N) # 产生大量样本值的情况下，numpy.random比纯Python快几个数量级"
   ]
  },
  {
   "cell_type": "markdown",
   "metadata": {},
   "source": [
    "## 范例：随机漫步"
   ]
  },
  {
   "cell_type": "code",
   "execution_count": null,
   "metadata": {
    "collapsed": true
   },
   "outputs": [],
   "source": [
    "# 纯Python代码\n",
    "import random\n",
    "position = 0\n",
    "walk = [position]\n",
    "steps = 1000\n",
    "for i in xrange(steps):\n",
    "    step = 1 if random.randint(0, 1) else -1\n",
    "    position += step\n",
    "    walk.append(position)"
   ]
  },
  {
   "cell_type": "code",
   "execution_count": null,
   "metadata": {
    "collapsed": false
   },
   "outputs": [],
   "source": [
    "# numpy.random代码\n",
    "nsteps = 1000\n",
    "draws = np.random.randint(0, 2, size=nsteps)\n",
    "steps = np.where(draws > 0, 1, -1)\n",
    "walk = steps.cumsum()"
   ]
  },
  {
   "cell_type": "code",
   "execution_count": null,
   "metadata": {
    "collapsed": false
   },
   "outputs": [],
   "source": [
    "walk.min()\n",
    "walk.max() # 对随机漫步的统计工作"
   ]
  },
  {
   "cell_type": "code",
   "execution_count": null,
   "metadata": {
    "collapsed": false
   },
   "outputs": [],
   "source": [
    "(np.abs(walk) >= 10).argmax() # 得到本次随机漫步需要多久，才能距离0点至少10步远"
   ]
  },
  {
   "cell_type": "markdown",
   "metadata": {},
   "source": [
    "### 一次模拟多个随机漫步"
   ]
  },
  {
   "cell_type": "code",
   "execution_count": null,
   "metadata": {
    "collapsed": false
   },
   "outputs": [],
   "source": [
    "nwalks = 5000\n",
    "nsteps = 1000\n",
    "draws = np.random.randint(0, 2, size=(nwalks, nsteps)) # 0 or 1\n",
    "steps = np.where(draws > 0, 1, -1)\n",
    "walks = steps.cumsum(1)"
   ]
  },
  {
   "cell_type": "code",
   "execution_count": null,
   "metadata": {
    "collapsed": false
   },
   "outputs": [],
   "source": [
    "walks.max()\n",
    "walks.min()"
   ]
  },
  {
   "cell_type": "code",
   "execution_count": null,
   "metadata": {
    "collapsed": false
   },
   "outputs": [],
   "source": [
    "hits30 = (np.abs(walks) >= 30).any(1)\n",
    "hits30.sum() # 到达30或-30的随机漫步数量"
   ]
  },
  {
   "cell_type": "code",
   "execution_count": null,
   "metadata": {
    "collapsed": false
   },
   "outputs": [],
   "source": [
    "crossing_times = (np.abs(walks[hits30]) >= 30).argmax(1)\n",
    "crossing_times.mean() # 穿越了30步的随机漫步，所用穿越时间的均值"
   ]
  },
  {
   "cell_type": "code",
   "execution_count": null,
   "metadata": {
    "collapsed": false
   },
   "outputs": [],
   "source": [
    "steps = np.random.normal(loc=0, scale=0.25,\n",
    "                         size=(nwalks, nsteps)) # 用指定均值和标准差的正态分布生成随机漫步"
   ]
  }
 ],
 "metadata": {
  "kernelspec": {
   "display_name": "Python 2",
   "language": "python",
   "name": "python2"
  },
  "language_info": {
   "codemirror_mode": {
    "name": "ipython",
    "version": 2
   },
   "file_extension": ".py",
   "mimetype": "text/x-python",
   "name": "python",
   "nbconvert_exporter": "python",
   "pygments_lexer": "ipython2",
   "version": "2.7.11"
  }
 },
 "nbformat": 4,
 "nbformat_minor": 0
}
